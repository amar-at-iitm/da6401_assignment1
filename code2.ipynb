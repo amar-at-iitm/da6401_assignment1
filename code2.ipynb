{
 "cells": [
  {
   "cell_type": "markdown",
   "metadata": {},
   "source": [
    "# Question 2 "
   ]
  },
  {
   "cell_type": "code",
   "execution_count": 1,
   "metadata": {},
   "outputs": [],
   "source": [
    "# importing library\n",
    "import numpy as np\n",
    "import pandas as pd"
   ]
  },
  {
   "cell_type": "markdown",
   "metadata": {},
   "source": [
    "### Loading Fashion-MNIST Dataset From Local Director"
   ]
  },
  {
   "cell_type": "code",
   "execution_count": 2,
   "metadata": {},
   "outputs": [],
   "source": [
    "def load_data(filepath):\n",
    "    with np.load(filepath) as data:\n",
    "        x_train, y_train = data['x_train'], data['y_train']\n",
    "        x_test, y_test = data['x_test'], data['y_test']\n",
    "    return (x_train, y_train), (x_test, y_test)"
   ]
  },
  {
   "cell_type": "markdown",
   "metadata": {},
   "source": [
    "## Processing Data"
   ]
  },
  {
   "cell_type": "code",
   "execution_count": 3,
   "metadata": {},
   "outputs": [],
   "source": [
    "def preprocess_data(x):\n",
    "    return x.reshape(x.shape[0], -1) / 255.0  # Flatten and normalize"
   ]
  },
  {
   "cell_type": "markdown",
   "metadata": {},
   "source": [
    "## Initializing Network"
   ]
  },
  {
   "cell_type": "code",
   "execution_count": 4,
   "metadata": {},
   "outputs": [],
   "source": [
    "def initialize_network(layer_sizes):\n",
    "    weights = []\n",
    "    biases = []\n",
    "    for i in range(len(layer_sizes) - 1):\n",
    "        weights.append(np.random.randn(layer_sizes[i], layer_sizes[i + 1]) * 0.01)\n",
    "        biases.append(np.zeros((1, layer_sizes[i + 1])))\n",
    "    return weights, biases"
   ]
  },
  {
   "cell_type": "markdown",
   "metadata": {},
   "source": [
    "## Activation Functions \n",
    "### `ReLU` for hidden layers and `Softmax` for output layer"
   ]
  },
  {
   "cell_type": "code",
   "execution_count": 5,
   "metadata": {},
   "outputs": [],
   "source": [
    "def relu(z):\n",
    "    return np.maximum(0, z)\n",
    "\n",
    "def softmax(z):\n",
    "    exp_z = np.exp(z - np.max(z, axis=1, keepdims=True))  # Stability trick\n",
    "    return exp_z / np.sum(exp_z, axis=1, keepdims=True)"
   ]
  },
  {
   "cell_type": "markdown",
   "metadata": {},
   "source": [
    "## Forward Propagation \n",
    "#### Computing the probability for a given input"
   ]
  },
  {
   "cell_type": "code",
   "execution_count": 6,
   "metadata": {},
   "outputs": [],
   "source": [
    "def forward_propagation(x, weights, biases):\n",
    "    for i in range(len(weights) - 1):\n",
    "        x = relu(np.dot(x, weights[i]) + biases[i])\n",
    "    return softmax(np.dot(x, weights[-1]) + biases[-1])"
   ]
  },
  {
   "cell_type": "markdown",
   "metadata": {},
   "source": [
    "## Loading and Preprocessing Data "
   ]
  },
  {
   "cell_type": "code",
   "execution_count": 7,
   "metadata": {},
   "outputs": [],
   "source": [
    "(x_train, y_train), (x_test, y_test) = load_data('fashion-mnist.npz')\n",
    "x_train, x_test = preprocess_data(x_train), preprocess_data(x_test)\n",
    "\n",
    "# Combine training and testing sets\n",
    "x_data = np.concatenate((x_train, x_test), axis=0)\n",
    "y_data = np.concatenate((y_train, y_test), axis=0)"
   ]
  },
  {
   "cell_type": "markdown",
   "metadata": {},
   "source": [
    "## Defining Network Architecture "
   ]
  },
  {
   "cell_type": "code",
   "execution_count": null,
   "metadata": {},
   "outputs": [],
   "source": [
    "# Allow user to select custom layer sizes or use defaults.\n",
    "use_default = input(\"Use default layer sizes [784, 128, 64, 10]? (y/n): \").strip().lower()\n",
    "if use_default == 'n':\n",
    "    layer_sizes = list(map(int, input(\"Enter layer sizes separated by spaces: \").split()))\n",
    "else:\n",
    "    layer_sizes = [784, 128, 64, 10]\n"
   ]
  },
  {
   "cell_type": "markdown",
   "metadata": {},
   "source": [
    "## Initializing the Neural Network "
   ]
  },
  {
   "cell_type": "code",
   "execution_count": 9,
   "metadata": {},
   "outputs": [],
   "source": [
    "# Initializing the Neural Network\n",
    "weights, biases = initialize_network(layer_sizes)"
   ]
  },
  {
   "cell_type": "markdown",
   "metadata": {},
   "source": [
    "## Asking user for image index "
   ]
  },
  {
   "cell_type": "code",
   "execution_count": null,
   "metadata": {},
   "outputs": [],
   "source": [
    "# Getting the image index from the user within the range 1 to 70000\n",
    "while True:\n",
    "    try:\n",
    "        image_index = int(input(\"Enter an image index (1 to 70000): \"))\n",
    "        if 1 <= image_index <= 70000:\n",
    "            break\n",
    "        else:\n",
    "            print(\"Please enter a number between 1 and 70000.\")\n",
    "    except ValueError:\n",
    "        print(\"Invalid input. Please enter a valid number.\")\n",
    "\n",
    "# Adjusting for zero-based indexing\n",
    "image_index -= 1"
   ]
  },
  {
   "cell_type": "markdown",
   "metadata": {},
   "source": [
    "## Displaying the Result "
   ]
  },
  {
   "cell_type": "code",
   "execution_count": 12,
   "metadata": {},
   "outputs": [
    {
     "data": {
      "text/html": [
       "<div>\n",
       "<style scoped>\n",
       "    .dataframe tbody tr th:only-of-type {\n",
       "        vertical-align: middle;\n",
       "    }\n",
       "\n",
       "    .dataframe tbody tr th {\n",
       "        vertical-align: top;\n",
       "    }\n",
       "\n",
       "    .dataframe thead th {\n",
       "        text-align: right;\n",
       "    }\n",
       "</style>\n",
       "<table border=\"1\" class=\"dataframe\">\n",
       "  <thead>\n",
       "    <tr style=\"text-align: right;\">\n",
       "      <th></th>\n",
       "      <th>Class 0</th>\n",
       "      <th>Class 1</th>\n",
       "      <th>Class 2</th>\n",
       "      <th>Class 3</th>\n",
       "      <th>Class 4</th>\n",
       "      <th>Class 5</th>\n",
       "      <th>Class 6</th>\n",
       "      <th>Class 7</th>\n",
       "      <th>Class 8</th>\n",
       "      <th>Class 9</th>\n",
       "    </tr>\n",
       "  </thead>\n",
       "  <tbody>\n",
       "    <tr>\n",
       "      <th>0</th>\n",
       "      <td>0.099977</td>\n",
       "      <td>0.1</td>\n",
       "      <td>0.099978</td>\n",
       "      <td>0.100027</td>\n",
       "      <td>0.099996</td>\n",
       "      <td>0.1</td>\n",
       "      <td>0.09999</td>\n",
       "      <td>0.100004</td>\n",
       "      <td>0.099987</td>\n",
       "      <td>0.100041</td>\n",
       "    </tr>\n",
       "  </tbody>\n",
       "</table>\n",
       "</div>"
      ],
      "text/plain": [
       "    Class 0  Class 1   Class 2   Class 3   Class 4  Class 5  Class 6  \\\n",
       "0  0.099977      0.1  0.099978  0.100027  0.099996      0.1  0.09999   \n",
       "\n",
       "    Class 7   Class 8   Class 9  \n",
       "0  0.100004  0.099987  0.100041  "
      ]
     },
     "metadata": {},
     "output_type": "display_data"
    }
   ],
   "source": [
    "# Compute predictions for the selected image.\n",
    "selected_image = x_data[image_index:image_index + 1]\n",
    "predictions = forward_propagation(selected_image, weights, biases)\n",
    "\n",
    "# ## Display Results\n",
    "# Convert predictions to a pandas DataFrame for better readability.\n",
    "probability_df = pd.DataFrame(predictions, columns=[f'Class {i}' for i in range(10)])\n",
    "display(probability_df)\n",
    "#print(probability_df)"
   ]
  }
 ],
 "metadata": {
  "kernelspec": {
   "display_name": "base",
   "language": "python",
   "name": "python3"
  },
  "language_info": {
   "codemirror_mode": {
    "name": "ipython",
    "version": 3
   },
   "file_extension": ".py",
   "mimetype": "text/x-python",
   "name": "python",
   "nbconvert_exporter": "python",
   "pygments_lexer": "ipython3",
   "version": "3.12.4"
  }
 },
 "nbformat": 4,
 "nbformat_minor": 2
}
